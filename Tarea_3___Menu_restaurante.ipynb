{
  "nbformat": 4,
  "nbformat_minor": 0,
  "metadata": {
    "colab": {
      "name": "Tarea 3 _ Menu restaurante.ipynb",
      "provenance": []
    },
    "kernelspec": {
      "name": "python3",
      "display_name": "Python 3"
    },
    "language_info": {
      "name": "python"
    }
  },
  "cells": [
    {
      "cell_type": "code",
      "metadata": {
        "colab": {
          "base_uri": "https://localhost:8080/"
        },
        "id": "CxIIieiXBs0m",
        "outputId": "572d34f2-0ee2-4f34-b97f-51410c7cf3fd"
      },
      "source": [
        "\n",
        "print(\".-.-.-.-.Menu de restaurante.-.-.-.-.\\n\")\n",
        "\n",
        "Menu = {\n",
        "     \"Mesa:\" : 3,\n",
        "     \"Comensal:\" : 2,\n",
        "     \"Entrada:\" : \"Ensalada Verde, sin ningun tipo de semilla o Adereso\",\n",
        "     \"Medio:\" : \"Crema de zanahoria\",\n",
        "     \"Fuerte:\" : \"Filete\",\n",
        "     \"Adicionales:\" : \"Filete termino medio\",\n",
        "  }\n",
        "\n",
        "\n",
        "llaves = Menu.keys()\n",
        "for llave in llaves:\n",
        "  print(llave, Menu[llave], \"\\n\")\n",
        "\n",
        "print(\"-.-.-.-.-.-Fin del Menu.-.-.-.-.-.-.\\n\")\n",
        "\n",
        "\n",
        "\n"
      ],
      "execution_count": 35,
      "outputs": [
        {
          "output_type": "stream",
          "name": "stdout",
          "text": [
            ".-.-.-.-.Menu de restaurante.-.-.-.-.\n",
            "\n",
            "Mesa: 3 \n",
            "\n",
            "Comensal: 2 \n",
            "\n",
            "Entrada: Ensalada Verde, sin ningun tipo de semilla o Adereso \n",
            "\n",
            "Medio: Crema de zanahoria \n",
            "\n",
            "Fuerte: Filete \n",
            "\n",
            "Adicionales: Filete termino medio \n",
            "\n",
            "-.-.-.-.-.-Fin del Menu.-.-.-.-.-.-.\n",
            "\n"
          ]
        }
      ]
    }
  ]
}